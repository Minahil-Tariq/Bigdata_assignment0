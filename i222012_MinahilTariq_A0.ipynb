{
  "nbformat": 4,
  "nbformat_minor": 0,
  "metadata": {
    "colab": {
      "provenance": []
    },
    "kernelspec": {
      "name": "python3",
      "display_name": "Python 3"
    },
    "language_info": {
      "name": "python"
    }
  },
  "cells": [
    {
      "cell_type": "code",
      "source": [
        "#loading\n",
        "\n",
        "import json\n",
        "\n",
        "def load(file_path):\n",
        "    # Step 1: Read lines from the file\n",
        "    with open(file_path, 'r') as file:\n",
        "        # Step 2: Load each line as a separate JSON object\n",
        "        data = [json.loads(line) for line in file]\n",
        "\n",
        "    # Step 3: Print the first 5 rows\n",
        "    for i in range(min(2, len(data))):\n",
        "        print(data[i])\n",
        "\n",
        "# Replace 'your_file_path.json' with the actual path to your JSON file\n",
        "file_path = '/content/Cell_Phones_and_Accessories_5.json'\n",
        "\n",
        "# Call the function with the file path\n",
        "load(file_path)"
      ],
      "metadata": {
        "colab": {
          "base_uri": "https://localhost:8080/"
        },
        "id": "lsQHRlRlmENE",
        "outputId": "19530a11-a761-40fb-e072-c2c96467e763"
      },
      "execution_count": 49,
      "outputs": [
        {
          "output_type": "stream",
          "name": "stdout",
          "text": [
            "{'reviewerID': 'A30TL5EWN6DFXT', 'asin': '120401325X', 'reviewerName': 'christina', 'helpful': [0, 0], 'reviewText': \"They look good and stick good! I just don't like the rounded shape because I was always bumping it and Siri kept popping up and it was irritating. I just won't buy a product like this again\", 'overall': 4.0, 'summary': 'Looks Good', 'unixReviewTime': 1400630400, 'reviewTime': '05 21, 2014'}\n",
            "{'reviewerID': 'ASY55RVNIL0UD', 'asin': '120401325X', 'reviewerName': 'emily l.', 'helpful': [0, 0], 'reviewText': 'These stickers work like the review says they do. They stick on great and they stay on the phone. They are super stylish and I can share them with my sister. :)', 'overall': 5.0, 'summary': 'Really great product.', 'unixReviewTime': 1389657600, 'reviewTime': '01 14, 2014'}\n"
          ]
        }
      ]
    },
    {
      "cell_type": "code",
      "source": [
        "#filtering\n",
        "\n",
        "import json\n",
        "\n",
        "def explore_and_filter(file_path):\n",
        "    # Read lines from the file\n",
        "    with open(file_path, 'r') as file:\n",
        "        # Load each line as a separate JSON object\n",
        "        data = [json.loads(line) for line in file]\n",
        "\n",
        "    # Explore the dataset\n",
        "    print(\"Dataset structure:\")\n",
        "    print(\"Number of entries:\", len(data))\n",
        "    print(\"Example entry:\", data[0])  # Display an example entry\n",
        "\n",
        "    # Filter the dataset to retain only necessary columns\n",
        "    necessary_columns = [\"reviewerID\", \"reviewerName\", \"reviewText\", \"overall\"]\n",
        "    #filtered_data = [{key: entry[key] for key in necessary_columns} for entry in data]\n",
        "    filtered_data = [{key: entry.get(key, None) for key in necessary_columns} for entry in data]\n",
        "\n",
        "\n",
        "    print(\"\\nFiltered dataset with necessary columns:\")\n",
        "    print(filtered_data[0])  # Display an example entry from the filtered data\n",
        "\n",
        "# Replace 'your_file_path.json' with the actual path to your JSON file\n",
        "file_path = '/content/Cell_Phones_and_Accessories_5.json'\n",
        "\n",
        "# Call the function with the file path\n",
        "explore_and_filter(file_path)\n"
      ],
      "metadata": {
        "colab": {
          "base_uri": "https://localhost:8080/"
        },
        "id": "HFWpc3fTpsIx",
        "outputId": "152b2ede-bbcd-41d9-95b9-b4f8c1f07b86"
      },
      "execution_count": 50,
      "outputs": [
        {
          "output_type": "stream",
          "name": "stdout",
          "text": [
            "Dataset structure:\n",
            "Number of entries: 194439\n",
            "Example entry: {'reviewerID': 'A30TL5EWN6DFXT', 'asin': '120401325X', 'reviewerName': 'christina', 'helpful': [0, 0], 'reviewText': \"They look good and stick good! I just don't like the rounded shape because I was always bumping it and Siri kept popping up and it was irritating. I just won't buy a product like this again\", 'overall': 4.0, 'summary': 'Looks Good', 'unixReviewTime': 1400630400, 'reviewTime': '05 21, 2014'}\n",
            "\n",
            "Filtered dataset with necessary columns:\n",
            "{'reviewerID': 'A30TL5EWN6DFXT', 'reviewerName': 'christina', 'reviewText': \"They look good and stick good! I just don't like the rounded shape because I was always bumping it and Siri kept popping up and it was irritating. I just won't buy a product like this again\", 'overall': 4.0}\n"
          ]
        }
      ]
    },
    {
      "cell_type": "code",
      "source": [
        "#preprocessing\n",
        "\n",
        "import json\n",
        "import string\n",
        "\n",
        "stop_words = set([ \"0o\", \"0s\", \"3a\", \"3b\", \"3d\", \"6b\", \"6o\", \"a\", \"a1\", \"a2\", \"a3\", \"a4\", \"ab\", \"able\", \"about\", \"above\", \"abst\", \"ac\", \"accordance\", \"according\", \"accordingly\", \"across\", \"act\", \"actually\", \"ad\", \"added\", \"adj\", \"ae\", \"af\", \"affected\", \"affecting\", \"affects\", \"after\", \"afterwards\", \"ag\", \"again\", \"against\", \"ah\", \"ain\", \"ain't\", \"aj\", \"al\", \"all\", \"allow\", \"allows\", \"almost\", \"alone\", \"along\", \"already\", \"also\", \"although\", \"always\", \"am\", \"among\", \"amongst\", \"amoungst\", \"amount\", \"an\", \"and\", \"announce\", \"another\", \"any\", \"anybody\", \"anyhow\", \"anymore\", \"anyone\", \"anything\", \"anyway\", \"anyways\", \"anywhere\", \"ao\", \"ap\", \"apart\", \"apparently\", \"appear\", \"appreciate\", \"appropriate\", \"approximately\", \"ar\", \"are\", \"aren\", \"arent\", \"aren't\", \"arise\", \"around\", \"as\", \"a's\", \"aside\", \"ask\", \"asking\", \"associated\", \"at\", \"au\", \"auth\", \"av\", \"available\", \"aw\", \"away\", \"awfully\", \"ax\", \"ay\", \"az\", \"b\", \"b1\", \"b2\", \"b3\", \"ba\", \"back\", \"bc\", \"bd\", \"be\", \"became\", \"because\", \"become\", \"becomes\", \"becoming\", \"been\", \"before\", \"beforehand\", \"begin\", \"beginning\", \"beginnings\", \"begins\", \"behind\", \"being\", \"believe\", \"below\", \"beside\", \"besides\", \"best\", \"better\", \"between\", \"beyond\", \"bi\", \"bill\", \"biol\", \"bj\", \"bk\", \"bl\", \"bn\", \"both\", \"bottom\", \"bp\", \"br\", \"brief\", \"briefly\", \"bs\", \"bt\", \"bu\", \"but\", \"bx\", \"by\", \"c\", \"c1\", \"c2\", \"c3\", \"ca\", \"call\", \"came\", \"can\", \"cannot\", \"cant\", \"can't\", \"cause\", \"causes\", \"cc\", \"cd\", \"ce\", \"certain\", \"certainly\", \"cf\", \"cg\", \"ch\", \"changes\", \"ci\", \"cit\", \"cj\", \"cl\", \"clearly\", \"cm\", \"c'mon\", \"cn\", \"co\", \"com\", \"come\", \"comes\", \"con\", \"concerning\", \"consequently\", \"consider\", \"considering\", \"contain\", \"containing\", \"contains\", \"corresponding\", \"could\", \"couldn\", \"couldnt\", \"couldn't\", \"course\", \"cp\", \"cq\", \"cr\", \"cry\", \"cs\", \"c's\", \"ct\", \"cu\", \"currently\", \"cv\", \"cx\", \"cy\", \"cz\", \"d\", \"d2\", \"da\", \"date\", \"dc\", \"dd\", \"de\", \"definitely\", \"describe\", \"described\", \"despite\", \"detail\", \"df\", \"di\", \"did\", \"didn\", \"didn't\", \"different\", \"dj\", \"dk\", \"dl\", \"do\", \"does\", \"doesn\", \"doesn't\", \"doing\", \"don\", \"done\", \"don't\", \"down\", \"downwards\", \"dp\", \"dr\", \"ds\", \"dt\", \"du\", \"due\", \"during\", \"dx\", \"dy\", \"e\", \"e2\", \"e3\", \"ea\", \"each\", \"ec\", \"ed\", \"edu\", \"ee\", \"ef\", \"effect\", \"eg\", \"ei\", \"eight\", \"eighty\", \"either\", \"ej\", \"el\", \"eleven\", \"else\", \"elsewhere\", \"em\", \"empty\", \"en\", \"end\", \"ending\", \"enough\", \"entirely\", \"eo\", \"ep\", \"eq\", \"er\", \"es\", \"especially\", \"est\", \"et\", \"et-al\", \"etc\", \"eu\", \"ev\", \"even\", \"ever\", \"every\", \"everybody\", \"everyone\", \"everything\", \"everywhere\", \"ex\", \"exactly\", \"example\", \"except\", \"ey\", \"f\", \"f2\", \"fa\", \"far\", \"fc\", \"few\", \"ff\", \"fi\", \"fifteen\", \"fifth\", \"fify\", \"fill\", \"find\", \"fire\", \"first\", \"five\", \"fix\", \"fj\", \"fl\", \"fn\", \"fo\", \"followed\", \"following\", \"follows\", \"for\", \"former\", \"formerly\", \"forth\", \"forty\", \"found\", \"four\", \"fr\", \"from\", \"front\", \"fs\", \"ft\", \"fu\", \"full\", \"further\", \"furthermore\", \"fy\", \"g\", \"ga\", \"gave\", \"ge\", \"get\", \"gets\", \"getting\", \"gi\", \"give\", \"given\", \"gives\", \"giving\", \"gj\", \"gl\", \"go\", \"goes\", \"going\", \"gone\", \"got\", \"gotten\", \"gr\", \"greetings\", \"gs\", \"gy\", \"h\", \"h2\", \"h3\", \"had\", \"hadn\", \"hadn't\", \"happens\", \"hardly\", \"has\", \"hasn\", \"hasnt\", \"hasn't\", \"have\", \"haven\", \"haven't\", \"having\", \"he\", \"hed\", \"he'd\", \"he'll\", \"hello\", \"help\", \"hence\", \"her\", \"here\", \"hereafter\", \"hereby\", \"herein\", \"heres\", \"here's\", \"hereupon\", \"hers\", \"herself\", \"hes\", \"he's\", \"hh\", \"hi\", \"hid\", \"him\", \"himself\", \"his\", \"hither\", \"hj\", \"ho\", \"home\", \"hopefully\", \"how\", \"howbeit\", \"however\", \"how's\", \"hr\", \"hs\", \"http\", \"hu\", \"hundred\", \"hy\", \"i\", \"i2\", \"i3\", \"i4\", \"i6\", \"i7\", \"i8\", \"ia\", \"ib\", \"ibid\", \"ic\", \"id\", \"i'd\", \"ie\", \"if\", \"ig\", \"ignored\", \"ih\", \"ii\", \"ij\", \"il\", \"i'll\", \"im\", \"i'm\", \"immediate\", \"immediately\", \"importance\", \"important\", \"in\", \"inasmuch\", \"inc\", \"indeed\", \"index\", \"indicate\", \"indicated\", \"indicates\", \"information\", \"inner\", \"insofar\", \"instead\", \"interest\", \"into\", \"invention\", \"inward\", \"io\", \"ip\", \"iq\", \"ir\", \"is\", \"isn\", \"isn't\", \"it\", \"itd\", \"it'd\", \"it'll\", \"its\", \"it's\", \"itself\", \"iv\", \"i've\", \"ix\", \"iy\", \"iz\", \"j\", \"jj\", \"jr\", \"js\", \"jt\", \"ju\", \"just\", \"k\", \"ke\", \"keep\", \"keeps\", \"kept\", \"kg\", \"kj\", \"km\", \"know\", \"known\", \"knows\", \"ko\", \"l\", \"l2\", \"la\", \"largely\", \"last\", \"lately\", \"later\", \"latter\", \"latterly\", \"lb\", \"lc\", \"le\", \"least\", \"les\", \"less\", \"lest\", \"let\", \"lets\", \"let's\", \"lf\", \"like\", \"liked\", \"likely\", \"line\", \"little\", \"lj\", \"ll\", \"ll\", \"ln\", \"lo\", \"look\", \"looking\", \"looks\", \"los\", \"lr\", \"ls\", \"lt\", \"ltd\", \"m\", \"m2\", \"ma\", \"made\", \"mainly\", \"make\", \"makes\", \"many\", \"may\", \"maybe\", \"me\", \"mean\", \"means\", \"meantime\", \"meanwhile\", \"merely\", \"mg\", \"might\", \"mightn\", \"mightn't\", \"mill\", \"million\", \"mine\", \"miss\", \"ml\", \"mn\", \"mo\", \"more\", \"moreover\", \"most\", \"mostly\", \"move\", \"mr\", \"mrs\", \"ms\", \"mt\", \"mu\", \"much\", \"mug\", \"must\", \"mustn\", \"mustn't\", \"my\", \"myself\", \"n\", \"n2\", \"na\", \"name\", \"namely\", \"nay\", \"nc\", \"nd\", \"ne\", \"near\", \"nearly\", \"necessarily\", \"necessary\", \"need\", \"needn\", \"needn't\", \"needs\", \"neither\", \"never\", \"nevertheless\", \"new\", \"next\", \"ng\", \"ni\", \"nine\", \"ninety\", \"nj\", \"nl\", \"nn\", \"no\", \"nobody\", \"non\", \"none\", \"nonetheless\", \"noone\", \"nor\", \"normally\", \"nos\", \"not\", \"noted\", \"nothing\", \"novel\", \"now\", \"nowhere\", \"nr\", \"ns\", \"nt\", \"ny\", \"o\", \"oa\", \"ob\", \"obtain\", \"obtained\", \"obviously\", \"oc\", \"od\", \"of\", \"off\", \"often\", \"og\", \"oh\", \"oi\", \"oj\", \"ok\", \"okay\", \"ol\", \"old\", \"om\", \"omitted\", \"on\", \"once\", \"one\", \"ones\", \"only\", \"onto\", \"oo\", \"op\", \"oq\", \"or\", \"ord\", \"os\", \"ot\", \"other\", \"others\", \"otherwise\", \"ou\", \"ought\", \"our\", \"ours\", \"ourselves\", \"out\", \"outside\", \"over\", \"overall\", \"ow\", \"owing\", \"own\", \"ox\", \"oz\", \"p\", \"p1\", \"p2\", \"p3\", \"page\", \"pagecount\", \"pages\", \"par\", \"part\", \"particular\", \"particularly\", \"pas\", \"past\", \"pc\", \"pd\", \"pe\", \"per\", \"perhaps\", \"pf\", \"ph\", \"pi\", \"pj\", \"pk\", \"pl\", \"placed\", \"please\", \"plus\", \"pm\", \"pn\", \"po\", \"poorly\", \"possible\", \"possibly\", \"potentially\", \"pp\", \"pq\", \"pr\", \"predominantly\", \"present\", \"presumably\", \"previously\", \"primarily\", \"probably\", \"promptly\", \"proud\", \"provides\", \"ps\", \"pt\", \"pu\", \"put\", \"py\", \"q\", \"qj\", \"qu\", \"que\", \"quickly\", \"quite\", \"qv\", \"r\", \"r2\", \"ra\", \"ran\", \"rather\", \"rc\", \"rd\", \"re\", \"readily\", \"really\", \"reasonably\", \"recent\", \"recently\", \"ref\", \"refs\", \"regarding\", \"regardless\", \"regards\", \"related\", \"relatively\", \"research\", \"research-articl\", \"respectively\", \"resulted\", \"resulting\", \"results\", \"rf\", \"rh\", \"ri\", \"right\", \"rj\", \"rl\", \"rm\", \"rn\", \"ro\", \"rq\", \"rr\", \"rs\", \"rt\", \"ru\", \"run\", \"rv\", \"ry\", \"s\", \"s2\", \"sa\", \"said\", \"same\", \"saw\", \"say\", \"saying\", \"says\", \"sc\", \"sd\", \"se\", \"sec\", \"second\", \"secondly\", \"section\", \"see\", \"seeing\", \"seem\", \"seemed\", \"seeming\", \"seems\", \"seen\", \"self\", \"selves\", \"sensible\", \"sent\", \"serious\", \"seriously\", \"seven\", \"several\", \"sf\", \"shall\", \"shan\", \"shan't\", \"she\", \"shed\", \"she'd\", \"she'll\", \"shes\", \"she's\", \"should\", \"shouldn\", \"shouldn't\", \"should've\", \"show\", \"showed\", \"shown\", \"showns\", \"shows\", \"si\", \"side\", \"significant\", \"significantly\", \"similar\", \"similarly\", \"since\", \"sincere\", \"six\", \"sixty\", \"sj\", \"sl\", \"slightly\", \"sm\", \"sn\", \"so\", \"some\", \"somebody\", \"somehow\", \"someone\", \"somethan\", \"something\", \"sometime\", \"sometimes\", \"somewhat\", \"somewhere\", \"soon\", \"sorry\", \"sp\", \"specifically\", \"specified\", \"specify\", \"specifying\", \"sq\", \"sr\", \"ss\", \"st\", \"still\", \"stop\", \"strongly\", \"sub\", \"substantially\", \"successfully\", \"such\", \"sufficiently\", \"suggest\", \"sup\", \"sure\", \"sy\", \"system\", \"sz\", \"t\", \"t1\", \"t2\", \"t3\", \"take\", \"taken\", \"taking\", \"tb\", \"tc\", \"td\", \"te\", \"tell\", \"ten\", \"tends\", \"tf\", \"th\", \"than\", \"thank\", \"thanks\", \"thanx\", \"that\", \"that'll\", \"thats\", \"that's\", \"that've\", \"the\", \"their\", \"theirs\", \"them\", \"themselves\", \"then\", \"thence\", \"there\", \"thereafter\", \"thereby\", \"thered\", \"therefore\", \"therein\", \"there'll\", \"thereof\", \"therere\", \"theres\", \"there's\", \"thereto\", \"thereupon\", \"there've\", \"these\", \"they\", \"theyd\", \"they'd\", \"they'll\", \"theyre\", \"they're\", \"they've\", \"thickv\", \"thin\", \"think\", \"third\", \"this\", \"thorough\", \"thoroughly\", \"those\", \"thou\", \"though\", \"thoughh\", \"thousand\", \"three\", \"throug\", \"through\", \"throughout\", \"thru\", \"thus\", \"ti\", \"til\", \"tip\", \"tj\", \"tl\", \"tm\", \"tn\", \"to\", \"together\", \"too\", \"took\", \"top\", \"toward\", \"towards\", \"tp\", \"tq\", \"tr\", \"tried\", \"tries\", \"truly\", \"try\", \"trying\", \"ts\", \"t's\", \"tt\", \"tv\", \"twelve\", \"twenty\", \"twice\", \"two\", \"tx\", \"u\", \"u201d\", \"ue\", \"ui\", \"uj\", \"uk\", \"um\", \"un\", \"under\", \"unfortunately\", \"unless\", \"unlike\", \"unlikely\", \"until\", \"unto\", \"uo\", \"up\", \"upon\", \"ups\", \"ur\", \"us\", \"use\", \"used\", \"useful\", \"usefully\", \"usefulness\", \"uses\", \"using\", \"usually\", \"ut\", \"v\", \"va\", \"value\", \"various\", \"vd\", \"ve\", \"ve\", \"very\", \"via\", \"viz\", \"vj\", \"vo\", \"vol\", \"vols\", \"volumtype\", \"vq\", \"vs\", \"vt\", \"vu\", \"w\", \"wa\", \"want\", \"wants\", \"was\", \"wasn\", \"wasnt\", \"wasn't\", \"way\", \"we\", \"wed\", \"we'd\", \"welcome\", \"well\", \"we'll\", \"well-b\", \"went\", \"were\", \"we're\", \"weren\", \"werent\", \"weren't\", \"we've\", \"what\", \"whatever\", \"what'll\", \"whats\", \"what's\", \"when\", \"whence\", \"whenever\", \"when's\", \"where\", \"whereafter\", \"whereas\", \"whereby\", \"wherein\", \"wheres\", \"where's\", \"whereupon\", \"wherever\", \"whether\", \"which\", \"while\", \"whim\", \"whither\", \"who\", \"whod\", \"whoever\", \"whole\", \"who'll\", \"whom\", \"whomever\", \"whos\", \"who's\", \"whose\", \"why\", \"why's\", \"wi\", \"widely\", \"will\", \"willing\", \"wish\", \"with\", \"within\", \"without\", \"wo\", \"won\", \"wonder\", \"wont\", \"won't\", \"words\", \"world\", \"would\", \"wouldn\", \"wouldnt\", \"wouldn't\", \"www\", \"x\", \"x1\", \"x2\", \"x3\", \"xf\", \"xi\", \"xj\", \"xk\", \"xl\", \"xn\", \"xo\", \"xs\", \"xt\", \"xv\", \"xx\", \"y\", \"y2\", \"yes\", \"yet\", \"yj\", \"yl\", \"you\", \"youd\", \"you'd\", \"you'll\", \"your\", \"youre\", \"you're\", \"yours\", \"yourself\", \"yourselves\", \"you've\", \"yr\", \"ys\", \"yt\", \"z\", \"zero\", \"zi\", \"zz\"])\n",
        "\n",
        "def preprocess_text(text):\n",
        "    # Remove punctuation\n",
        "    text = text.translate(str.maketrans('', '', string.punctuation))\n",
        "    # Convert to lowercase\n",
        "    text = text.lower()\n",
        "    # Remove stop words\n",
        "    words = text.split()\n",
        "    words = [word for word in words if word not in stop_words]\n",
        "    words = [word for word in words if len(word) > 2]  # Remove short words\n",
        "    return ' '.join(words)\n",
        "\n",
        "\n",
        "input_text = \"This is my preprocessing word??\"\n",
        "processed_text = preprocess_text(input_text)\n",
        "print(processed_text)\n"
      ],
      "metadata": {
        "colab": {
          "base_uri": "https://localhost:8080/"
        },
        "id": "jRQowrxKyjd-",
        "outputId": "1f544aff-08ea-44b9-ff31-66608a6ba0ee"
      },
      "execution_count": 51,
      "outputs": [
        {
          "output_type": "stream",
          "name": "stdout",
          "text": [
            "preprocessing word\n"
          ]
        }
      ]
    },
    {
      "cell_type": "code",
      "source": [
        "#thematic\n",
        "\n",
        "from collections import Counter\n",
        "\n",
        "def thematic_analysis(file_path):\n",
        "    # Read lines from the file\n",
        "    with open(file_path, 'r') as file:\n",
        "        # Load each line as a separate JSON object\n",
        "        data = [json.loads(line) for line in file]\n",
        "\n",
        "    # Separate reviews into positive and negative based on ratings\n",
        "    # Separate reviews into positive and negative based on ratings\n",
        "    positive_reviews = [entry['reviewText'] for entry in data if entry.get('overall', 0) >= 4.0]\n",
        "    negative_reviews = [entry['reviewText'] for entry in data if entry.get('overall', 0) <= 2.0]\n",
        "\n",
        "    # Preprocess reviews\n",
        "    positive_reviews = [preprocess_text(review) for review in positive_reviews]\n",
        "    negative_reviews = [preprocess_text(review) for review in negative_reviews]\n",
        "\n",
        "    # Tokenize reviews\n",
        "    positive_tokens = ' '.join(positive_reviews).split()\n",
        "    negative_tokens = ' '.join(negative_reviews).split()\n",
        "\n",
        "    # Perform frequency analysis\n",
        "    positive_word_freq = Counter(positive_tokens)\n",
        "    negative_word_freq = Counter(negative_tokens)\n",
        "\n",
        "    # Print top words in positive and negative reviews\n",
        "    print(\"Top words in Positive Reviews:\")\n",
        "    print(positive_word_freq.most_common(10))\n",
        "\n",
        "    print(\"\\nTop words in Negative Reviews:\")\n",
        "    print(negative_word_freq.most_common(10))\n",
        "\n",
        "# Replace 'your_file_path.json' with the actual path to your JSON file\n",
        "file_path = '/content/Cell_Phones_and_Accessories_5.json'\n",
        "\n",
        "# Call the function with the file path\n",
        "thematic_analysis(file_path)"
      ],
      "metadata": {
        "colab": {
          "base_uri": "https://localhost:8080/"
        },
        "id": "pycpWPt8zZ_h",
        "outputId": "df2f708b-e8c0-4769-9286-6253d0ff647f"
      },
      "execution_count": 52,
      "outputs": [
        {
          "output_type": "stream",
          "name": "stdout",
          "text": [
            "Top words in Positive Reviews:\n",
            "[('phone', 133060), ('case', 109127), ('great', 59181), ('battery', 46205), ('good', 46087), ('screen', 46036), ('iphone', 38373), ('charge', 36434), ('charger', 31490), ('product', 28572)]\n",
            "\n",
            "Top words in Negative Reviews:\n",
            "[('phone', 20632), ('case', 16608), ('screen', 7198), ('product', 5709), ('battery', 5617), ('dont', 5259), ('work', 5138), ('good', 5120), ('iphone', 4723), ('time', 4537)]\n"
          ]
        }
      ]
    },
    {
      "cell_type": "code",
      "source": [
        "#thematic and sentiment\n",
        "\n",
        "import json\n",
        "from collections import Counter\n",
        "import string\n",
        "\n",
        "\n",
        "def calculate_sentiment_score(tokens, word_weights):\n",
        "    # Calculate sentiment score based on word weights\n",
        "    score = sum(word_weights.get(token, 0) for token in tokens)\n",
        "    return score\n",
        "\n",
        "def thematic_and_sentiment_analysis(file_path):\n",
        "    # Read lines from the file\n",
        "    with open(file_path, 'r') as file:\n",
        "        # Load each line as a separate JSON object\n",
        "        data = [json.loads(line) for line in file]\n",
        "\n",
        "    # Separate reviews into positive and negative based on ratings\n",
        "    positive_reviews = [entry['reviewText'] for entry in data if entry.get('overall', 0) >= 4.0]\n",
        "    negative_reviews = [entry['reviewText'] for entry in data if entry.get('overall', 0) <= 2.0]\n",
        "\n",
        "    # Preprocess reviews\n",
        "    positive_reviews = [preprocess_text(review) for review in positive_reviews]\n",
        "    negative_reviews = [preprocess_text(review) for review in negative_reviews]\n",
        "\n",
        "    # Tokenize reviews\n",
        "    positive_tokens = ' '.join(positive_reviews).split()\n",
        "    negative_tokens = ' '.join(negative_reviews).split()\n",
        "\n",
        "    # Perform frequency analysis\n",
        "    positive_word_freq = Counter(positive_tokens)\n",
        "    negative_word_freq = Counter(negative_tokens)\n",
        "\n",
        "    # Define word weights for sentiment analysis\n",
        "    word_weights = {'good': 0.65, 'amazing': 0.75, 'great': 0.85, 'bad': 0.05}\n",
        "\n",
        "    # Calculate sentiment score for positive and negative reviews\n",
        "    positive_sentiment_score = calculate_sentiment_score(positive_tokens, word_weights)\n",
        "    negative_sentiment_score = calculate_sentiment_score(negative_tokens, word_weights)\n",
        "\n",
        "    # Determine sentiment based on scores\n",
        "    positive_sentiment = \"Positive\" if positive_sentiment_score > negative_sentiment_score else \"Neutral\"\n",
        "    negative_sentiment = \"Negative\" if negative_sentiment_score > positive_sentiment_score else \"Neutral\"\n",
        "\n",
        "    # Print top words, sentiment scores, and final sentiment in positive and negative reviews\n",
        "    print(\"Top words in Positive Reviews:\")\n",
        "    print(positive_word_freq.most_common(10))\n",
        "    print(\"Sentiment Score: \", positive_sentiment_score)\n",
        "    print(\"Sentiment: \", positive_sentiment)\n",
        "\n",
        "    print(\"\\nTop words in Negative Reviews:\")\n",
        "    print(negative_word_freq.most_common(10))\n",
        "    print(\"Sentiment Score: \", negative_sentiment_score)\n",
        "    print(\"Sentiment: \", negative_sentiment)\n",
        "\n",
        "# Replace 'your_file_path.json' with the actual path to your JSON file\n",
        "file_path = '/content/Cell_Phones_and_Accessories_5.json'\n",
        "\n",
        "# Call the function with the file path\n",
        "thematic_and_sentiment_analysis(file_path)\n"
      ],
      "metadata": {
        "colab": {
          "base_uri": "https://localhost:8080/"
        },
        "id": "7HwuyW1r0blT",
        "outputId": "1046eb4c-bd8e-4bb1-ad82-5f5e9d850dda"
      },
      "execution_count": 54,
      "outputs": [
        {
          "output_type": "stream",
          "name": "stdout",
          "text": [
            "Top words in Positive Reviews:\n",
            "[('phone', 133060), ('case', 109127), ('great', 59181), ('battery', 46205), ('good', 46087), ('screen', 46036), ('iphone', 38373), ('charge', 36434), ('charger', 31490), ('product', 28572)]\n",
            "Sentiment Score:  32999.10000002551\n",
            "Sentiment:  Positive\n",
            "\n",
            "Top words in Negative Reviews:\n",
            "[('phone', 20632), ('case', 16608), ('screen', 7198), ('product', 5709), ('battery', 5617), ('dont', 5259), ('work', 5138), ('good', 5120), ('iphone', 4723), ('time', 4537)]\n",
            "Sentiment Score:  3543.150000000401\n",
            "Sentiment:  Neutral\n"
          ]
        }
      ]
    }
  ]
}